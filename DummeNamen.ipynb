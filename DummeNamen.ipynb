{
 "cells": [
  {
   "cell_type": "code",
   "execution_count": 1,
   "metadata": {},
   "outputs": [],
   "source": [
    "# Load Data\n",
    "# We got it from https://osm.li/Xt\n",
    "json = 'export.geojson'\n",
    "# We should proabably look into reading this as geoJSON, then we can also plot it on a map.\n",
    "# But for now we just want to have the names..."
   ]
  },
  {
   "cell_type": "code",
   "execution_count": 2,
   "metadata": {},
   "outputs": [],
   "source": [
    "# Get all names from the exported geoJSON file\n",
    "Names = []\n",
    "file = open(json, 'r')\n",
    "for line in file:\n",
    "    if 'name' in line:\n",
    "        Names.append(line.split(':')[1].strip().lstrip('\"').rstrip('\",'))\n",
    "file.close()"
   ]
  },
  {
   "cell_type": "code",
   "execution_count": 3,
   "metadata": {},
   "outputs": [],
   "source": [
    "# Remove duplicates: https://stackoverflow.com/a/27305828\n",
    "Names = list(sorted(set(Names)))"
   ]
  },
  {
   "cell_type": "code",
   "execution_count": 4,
   "metadata": {},
   "outputs": [
    {
     "name": "stdout",
     "output_type": "stream",
     "text": [
      "We have 2201 unique hairdresser names in our list.\n"
     ]
    }
   ],
   "source": [
    "# What did we get\n",
    "print('We have %s unique hairdresser names in our list.' % len(Names))"
   ]
  },
  {
   "cell_type": "code",
   "execution_count": 5,
   "metadata": {
    "scrolled": false
   },
   "outputs": [
    {
     "name": "stdout",
     "output_type": "stream",
     "text": [
      "4 Haareszeiten\n",
      "Aerni Haar\n",
      "Bea's Haarstudio\n",
      "Cecile's Haarstübli\n",
      "Claudia's Haarstudio\n",
      "Coiffeur Flückiger`s HaarOase\n",
      "Coiffeur Haarbijou\n",
      "Coiffeur Haargenau\n",
      "Coiffeur Haarkunst\n",
      "Coiffeur Haarley\n",
      "Coiffeur Haarmonie\n",
      "Coiffeur Haarstark\n",
      "Coiffeur-Studio Haarpunkt\n",
      "Coiffeursalon haarpracht\n",
      "Coiffure Haar-Colosseum\n",
      "Coiffure Haarmonie\n",
      "Coiffure Haarscharf\n",
      "Coiffure Haartraum\n",
      "Coiffure Haarzeiten\n",
      "Coiffure Wunderhaar\n",
      "Couiffeur Haarstation\n",
      "Element HAAR\n",
      "H20, Haarkultur am See\n",
      "HAAR-monie\n",
      "HAARDESIGNER\n",
      "HAARForm\n",
      "HAARgenau\n",
      "HAARstuba\n",
      "Haar & Fuss\n",
      "Haar Art\n",
      "Haar Atelier\n",
      "Haar Bijou\n",
      "Haar Designer\n",
      "Haar Klar\n",
      "Haar Lädeli\n",
      "Haar Schneiderei\n",
      "Haar Studio\n",
      "Haar Werk Schwyz\n",
      "Haar auf Verlangen\n",
      "Haar-Scharf\n",
      "Haar-Schnitt\n",
      "Haar-Shop\n",
      "Haar-Wandel\n",
      "Haar-Werk\n",
      "Haar2O\n",
      "HaarGarage\n",
      "HaarOase\n",
      "HaarRaum\n",
      "HaarTräft\n",
      "Haararchitektur\n",
      "Haarart coiffure\n",
      "Haaratelier Obstberg\n",
      "Haarbankli\n",
      "Haarbracadabra\n",
      "Haarbänkli\n",
      "Haarchitektur\n",
      "Haardepot\n",
      "Haardieb\n",
      "Haarelekin\n",
      "Haarerläbnis\n",
      "Haareschööön\n",
      "Haarexpert\n",
      "Haarfenster\n",
      "Haargalerie\n",
      "Haargenau\n",
      "Haargenial\n",
      "Haarika\n",
      "Haarika Coiffeur\n",
      "Haarkult\n",
      "Haarkunst Ribolla\n",
      "Haarkunstraum\n",
      "Haarlade\n",
      "Haarlekin\n",
      "Haarlokal\n",
      "Haarmania\n",
      "Haarmania Frisiersalon\n",
      "Haarmonia\n",
      "Haarmonie\n",
      "Haarmonium\n",
      "Haarometer\n",
      "Haarpalast Sagarra\n",
      "Haarpassion\n",
      "Haarraum\n",
      "Haarraum – Damen + Herren\n",
      "Haarscharf\n",
      "Haarschelm\n",
      "Haarschmiede\n",
      "Haarschneiderei\n",
      "Haarschopf\n",
      "Haarsträubend\n",
      "Haarstudio Peggy\n",
      "Haarstudio Unico\n",
      "Haarstudio Yvonne\n",
      "Haartraum\n",
      "Haarwelten\n",
      "Haarwerk\n",
      "Khaarin\n",
      "Kopf & Haar\n",
      "Kosmetik und Dauer Haarentfernung Mari-om\n",
      "Kronen Haar\n",
      "Lina's Salon GmbH Haar & Nägel\n",
      "Mazzeo Haarkultur\n",
      "Mein Haarstudio\n",
      "Naturhaar Theresia\n",
      "New Style Haarwerk\n",
      "ORHAN Haarkunst\n",
      "SchneePunzel Haarkreationen\n",
      "Sonja Walker‘s Haarmacherei\n",
      "Styling Haarscharf\n",
      "SzenHAARio\n",
      "Taj Mahaar\n",
      "Waber & Kraushaar\n",
      "cuafför HaarMOnia\n",
      "haARCHITEKTin\n",
      "haar-werk.ch\n",
      "haarerei Coiffure\n",
      "haargenau\n",
      "haarklasse\n",
      "haarkonzept.ch\n",
      "haarkult\n",
      "haarscharf\n",
      "haarte\n",
      "sahaari hair design\n"
     ]
    }
   ],
   "source": [
    "# Print silly names\n",
    "for n in Names:\n",
    "    # Only look at lowercase letters :)\n",
    "    if ('haar' or 'hair' or 'schnitt') in n.lower():\n",
    "        print(n)"
   ]
  },
  {
   "cell_type": "code",
   "execution_count": null,
   "metadata": {},
   "outputs": [],
   "source": []
  }
 ],
 "metadata": {
  "kernelspec": {
   "display_name": "Python 3",
   "language": "python",
   "name": "python3"
  },
  "language_info": {
   "codemirror_mode": {
    "name": "ipython",
    "version": 3
   },
   "file_extension": ".py",
   "mimetype": "text/x-python",
   "name": "python",
   "nbconvert_exporter": "python",
   "pygments_lexer": "ipython3",
   "version": "3.7.0"
  }
 },
 "nbformat": 4,
 "nbformat_minor": 2
}
